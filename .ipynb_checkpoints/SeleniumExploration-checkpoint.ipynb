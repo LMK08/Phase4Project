{
 "cells": [
  {
   "cell_type": "code",
   "execution_count": 13,
   "id": "84773325-08d4-4e66-910c-0996d2029073",
   "metadata": {},
   "outputs": [
    {
     "ename": "TimeoutException",
     "evalue": "Message: \nStacktrace:\n0   chromedriver                        0x0000000104644d28 chromedriver + 4795688\n1   chromedriver                        0x000000010463c2b3 chromedriver + 4760243\n2   chromedriver                        0x000000010421588d chromedriver + 407693\n3   chromedriver                        0x00000001042643d9 chromedriver + 730073\n4   chromedriver                        0x0000000104264591 chromedriver + 730513\n5   chromedriver                        0x00000001042aa7e4 chromedriver + 1017828\n6   chromedriver                        0x000000010428bccd chromedriver + 892109\n7   chromedriver                        0x00000001042a7b2b chromedriver + 1006379\n8   chromedriver                        0x000000010428ba73 chromedriver + 891507\n9   chromedriver                        0x0000000104256143 chromedriver + 672067\n10  chromedriver                        0x000000010425731e chromedriver + 676638\n11  chromedriver                        0x0000000104605795 chromedriver + 4536213\n12  chromedriver                        0x000000010460a853 chromedriver + 4556883\n13  chromedriver                        0x00000001045eb001 chromedriver + 4427777\n14  chromedriver                        0x000000010460b59d chromedriver + 4560285\n15  chromedriver                        0x00000001045dc48c chromedriver + 4367500\n16  chromedriver                        0x000000010462b0e8 chromedriver + 4690152\n17  chromedriver                        0x000000010462b29e chromedriver + 4690590\n18  chromedriver                        0x000000010463beee chromedriver + 4759278\n19  libsystem_pthread.dylib             0x00007ff81bc6b1d3 _pthread_start + 125\n20  libsystem_pthread.dylib             0x00007ff81bc66bd3 thread_start + 15\n",
     "output_type": "error",
     "traceback": [
      "\u001b[0;31m---------------------------------------------------------------------------\u001b[0m",
      "\u001b[0;31mTimeoutException\u001b[0m                          Traceback (most recent call last)",
      "\u001b[0;32m/var/folders/hz/jkmqh6017hb_3wwh71glzdrc0000gn/T/ipykernel_18687/3402509287.py\u001b[0m in \u001b[0;36m<module>\u001b[0;34m\u001b[0m\n\u001b[1;32m     18\u001b[0m \u001b[0;31m# Replace with the actual XPath or selector for the dropdown trigger\u001b[0m\u001b[0;34m\u001b[0m\u001b[0;34m\u001b[0m\u001b[0m\n\u001b[1;32m     19\u001b[0m \u001b[0mdropdown_trigger_xpath\u001b[0m \u001b[0;34m=\u001b[0m \u001b[0;34m'//*[@id=\"downshift-14555-toggle-button\"]/div/svg'\u001b[0m\u001b[0;34m\u001b[0m\u001b[0;34m\u001b[0m\u001b[0m\n\u001b[0;32m---> 20\u001b[0;31m dropdown_trigger = WebDriverWait(driver, 10).until(\n\u001b[0m\u001b[1;32m     21\u001b[0m     \u001b[0mEC\u001b[0m\u001b[0;34m.\u001b[0m\u001b[0mpresence_of_element_located\u001b[0m\u001b[0;34m(\u001b[0m\u001b[0;34m(\u001b[0m\u001b[0mBy\u001b[0m\u001b[0;34m.\u001b[0m\u001b[0mXPATH\u001b[0m\u001b[0;34m,\u001b[0m \u001b[0mdropdown_trigger_xpath\u001b[0m\u001b[0;34m)\u001b[0m\u001b[0;34m)\u001b[0m\u001b[0;34m\u001b[0m\u001b[0;34m\u001b[0m\u001b[0m\n\u001b[1;32m     22\u001b[0m )\n",
      "\u001b[0;32m~/opt/anaconda3/lib/python3.9/site-packages/selenium/webdriver/support/wait.py\u001b[0m in \u001b[0;36muntil\u001b[0;34m(self, method, message)\u001b[0m\n\u001b[1;32m     93\u001b[0m             \u001b[0;32mif\u001b[0m \u001b[0mtime\u001b[0m\u001b[0;34m.\u001b[0m\u001b[0mmonotonic\u001b[0m\u001b[0;34m(\u001b[0m\u001b[0;34m)\u001b[0m \u001b[0;34m>\u001b[0m \u001b[0mend_time\u001b[0m\u001b[0;34m:\u001b[0m\u001b[0;34m\u001b[0m\u001b[0;34m\u001b[0m\u001b[0m\n\u001b[1;32m     94\u001b[0m                 \u001b[0;32mbreak\u001b[0m\u001b[0;34m\u001b[0m\u001b[0;34m\u001b[0m\u001b[0m\n\u001b[0;32m---> 95\u001b[0;31m         \u001b[0;32mraise\u001b[0m \u001b[0mTimeoutException\u001b[0m\u001b[0;34m(\u001b[0m\u001b[0mmessage\u001b[0m\u001b[0;34m,\u001b[0m \u001b[0mscreen\u001b[0m\u001b[0;34m,\u001b[0m \u001b[0mstacktrace\u001b[0m\u001b[0;34m)\u001b[0m\u001b[0;34m\u001b[0m\u001b[0;34m\u001b[0m\u001b[0m\n\u001b[0m\u001b[1;32m     96\u001b[0m \u001b[0;34m\u001b[0m\u001b[0m\n\u001b[1;32m     97\u001b[0m     \u001b[0;32mdef\u001b[0m \u001b[0muntil_not\u001b[0m\u001b[0;34m(\u001b[0m\u001b[0mself\u001b[0m\u001b[0;34m,\u001b[0m \u001b[0mmethod\u001b[0m\u001b[0;34m,\u001b[0m \u001b[0mmessage\u001b[0m\u001b[0;34m:\u001b[0m \u001b[0mstr\u001b[0m \u001b[0;34m=\u001b[0m \u001b[0;34m\"\"\u001b[0m\u001b[0;34m)\u001b[0m\u001b[0;34m:\u001b[0m\u001b[0;34m\u001b[0m\u001b[0;34m\u001b[0m\u001b[0m\n",
      "\u001b[0;31mTimeoutException\u001b[0m: Message: \nStacktrace:\n0   chromedriver                        0x0000000104644d28 chromedriver + 4795688\n1   chromedriver                        0x000000010463c2b3 chromedriver + 4760243\n2   chromedriver                        0x000000010421588d chromedriver + 407693\n3   chromedriver                        0x00000001042643d9 chromedriver + 730073\n4   chromedriver                        0x0000000104264591 chromedriver + 730513\n5   chromedriver                        0x00000001042aa7e4 chromedriver + 1017828\n6   chromedriver                        0x000000010428bccd chromedriver + 892109\n7   chromedriver                        0x00000001042a7b2b chromedriver + 1006379\n8   chromedriver                        0x000000010428ba73 chromedriver + 891507\n9   chromedriver                        0x0000000104256143 chromedriver + 672067\n10  chromedriver                        0x000000010425731e chromedriver + 676638\n11  chromedriver                        0x0000000104605795 chromedriver + 4536213\n12  chromedriver                        0x000000010460a853 chromedriver + 4556883\n13  chromedriver                        0x00000001045eb001 chromedriver + 4427777\n14  chromedriver                        0x000000010460b59d chromedriver + 4560285\n15  chromedriver                        0x00000001045dc48c chromedriver + 4367500\n16  chromedriver                        0x000000010462b0e8 chromedriver + 4690152\n17  chromedriver                        0x000000010462b29e chromedriver + 4690590\n18  chromedriver                        0x000000010463beee chromedriver + 4759278\n19  libsystem_pthread.dylib             0x00007ff81bc6b1d3 _pthread_start + 125\n20  libsystem_pthread.dylib             0x00007ff81bc66bd3 thread_start + 15\n"
     ]
    }
   ],
   "source": [
    "from selenium import webdriver\n",
    "from selenium.webdriver.common.by import By\n",
    "from selenium.webdriver.support.ui import WebDriverWait\n",
    "from selenium.webdriver.support import expected_conditions as EC\n",
    "from selenium.webdriver.chrome.service import Service\n",
    "from webdriver_manager.chrome import ChromeDriverManager\n",
    "from selenium.webdriver.common.action_chains import ActionChains\n",
    "\n",
    "\n",
    "# Start a browser session\n",
    "driver = webdriver.Chrome(service=Service(ChromeDriverManager().install()))\n",
    "\n",
    "# Open a webpage\n",
    "driver.get('https://www.sofascore.com/tournament/football/england/premier-league/17#13380')  # Replace with your target URL\n",
    "\n",
    "\n",
    "\n",
    "# Replace with the actual XPath or selector for the dropdown trigger\n",
    "dropdown_trigger_xpath = '//*[@id=\"downshift-14555-toggle-button\"]/div/svg'\n",
    "dropdown_trigger = WebDriverWait(driver, 10).until(\n",
    "    EC.presence_of_element_located((By.XPATH, dropdown_trigger_xpath))\n",
    ")\n",
    "dropdown_trigger.click()\n",
    "\n",
    "\n",
    "\n",
    "\n",
    "# XPath to the button\n",
    "button_xpath = '//*[@id=\"downshift-0-item-6\"]'  # Replace with your actual XPath\n",
    "\n",
    "\n",
    "button = driver.find_element(By.XPATH, button_xpath)\n",
    "driver.execute_script(\"arguments[0].click();\", button)\n",
    "\n",
    "\n",
    "print(button.is_displayed(), button.is_enabled())\n",
    "\n",
    "\n",
    "# Continue with any other actions...\n",
    "\n",
    "# Close the browser\n",
    "#driver.quit()\n"
   ]
  }
 ],
 "metadata": {
  "kernelspec": {
   "display_name": "Python 3 (ipykernel)",
   "language": "python",
   "name": "python3"
  },
  "language_info": {
   "codemirror_mode": {
    "name": "ipython",
    "version": 3
   },
   "file_extension": ".py",
   "mimetype": "text/x-python",
   "name": "python",
   "nbconvert_exporter": "python",
   "pygments_lexer": "ipython3",
   "version": "3.9.7"
  }
 },
 "nbformat": 4,
 "nbformat_minor": 5
}
